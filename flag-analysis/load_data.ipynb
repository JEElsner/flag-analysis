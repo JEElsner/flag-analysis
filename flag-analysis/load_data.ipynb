{
 "cells": [
  {
   "cell_type": "code",
   "execution_count": 1,
   "metadata": {},
   "outputs": [],
   "source": [
    "import urllib\n",
    "from bs4 import BeautifulSoup\n",
    "import pandas as pd\n",
    "import re\n",
    "from functools import partial\n",
    "from io import StringIO"
   ]
  },
  {
   "cell_type": "code",
   "execution_count": 2,
   "metadata": {},
   "outputs": [],
   "source": [
    "import urllib.request\n",
    "\n",
    "\n",
    "list_of_flags_page = urllib.request.urlopen('https://en.wikipedia.org/wiki/List_of_national_flags_of_sovereign_states').read()"
   ]
  },
  {
   "cell_type": "code",
   "execution_count": 3,
   "metadata": {},
   "outputs": [],
   "source": [
    "soup = BeautifulSoup(list_of_flags_page, 'html.parser')"
   ]
  },
  {
   "cell_type": "code",
   "execution_count": 4,
   "metadata": {},
   "outputs": [],
   "source": [
    "tables = soup.find_all('table')"
   ]
  },
  {
   "cell_type": "code",
   "execution_count": 5,
   "metadata": {},
   "outputs": [],
   "source": [
    "def parse_table(table):\n",
    "\n",
    "    split_ratio = re.compile('[∶:]').split\n",
    "    def parse_aspect_ratio(s: str) -> float:\n",
    "        try:\n",
    "            n, d = map(int, split_ratio(s))\n",
    "            return n / d\n",
    "        except ValueError:\n",
    "            return float('nan')\n",
    "\n",
    "    strip_citations = partial(re.compile(r'\\s*\\[.*\\]').sub, \"\")\n",
    "    \n",
    "    table = pd.read_html(StringIO(table.prettify()), flavor='bs4')[0]\n",
    "\n",
    "    table = table.map(strip_citations)\n",
    "    table.columns = map(strip_citations, table.columns)\n",
    "    table.drop('Refs.', axis=1, inplace=True)\n",
    "    table['Aspect ratio'] = table['Aspect ratio'].apply(parse_aspect_ratio)\n",
    "    table['Date of latest adoption'] = pd.to_datetime(table['Date of latest adoption'], format='mixed', errors='coerce')\n",
    "    table['Designer(s)'] = table['Designer(s)'].apply(lambda s: None if s == '—' else s)\n",
    "\n",
    "    return table"
   ]
  },
  {
   "cell_type": "code",
   "execution_count": 6,
   "metadata": {},
   "outputs": [
    {
     "data": {
      "text/html": [
       "<div>\n",
       "<style scoped>\n",
       "    .dataframe tbody tr th:only-of-type {\n",
       "        vertical-align: middle;\n",
       "    }\n",
       "\n",
       "    .dataframe tbody tr th {\n",
       "        vertical-align: top;\n",
       "    }\n",
       "\n",
       "    .dataframe thead th {\n",
       "        text-align: right;\n",
       "    }\n",
       "</style>\n",
       "<table border=\"1\" class=\"dataframe\">\n",
       "  <thead>\n",
       "    <tr style=\"text-align: right;\">\n",
       "      <th></th>\n",
       "      <th>Flag(s)</th>\n",
       "      <th>State</th>\n",
       "      <th>Aspect ratio</th>\n",
       "      <th>Date of latest adoption</th>\n",
       "      <th>Designer(s)</th>\n",
       "      <th>Description</th>\n",
       "    </tr>\n",
       "  </thead>\n",
       "  <tbody>\n",
       "    <tr>\n",
       "      <th>0</th>\n",
       "      <td>Afghanistan (Islamic Emirate)</td>\n",
       "      <td>Afghanistan</td>\n",
       "      <td>0.500000</td>\n",
       "      <td>2021-08-15</td>\n",
       "      <td>None</td>\n",
       "      <td>White with a black  Shahada  in  Thuluth scrip...</td>\n",
       "    </tr>\n",
       "    <tr>\n",
       "      <th>1</th>\n",
       "      <td>Afghanistan (Islamic Republic)</td>\n",
       "      <td>Afghanistan</td>\n",
       "      <td>0.666667</td>\n",
       "      <td>2013-08-19</td>\n",
       "      <td>None</td>\n",
       "      <td>Three equal vertical bands of black (  hoist s...</td>\n",
       "    </tr>\n",
       "    <tr>\n",
       "      <th>2</th>\n",
       "      <td>Albania</td>\n",
       "      <td>Albania</td>\n",
       "      <td>0.714286</td>\n",
       "      <td>1992-04-07</td>\n",
       "      <td>None</td>\n",
       "      <td>Red with a black  double-headed eagle  in the ...</td>\n",
       "    </tr>\n",
       "    <tr>\n",
       "      <th>3</th>\n",
       "      <td>Algeria</td>\n",
       "      <td>Algeria</td>\n",
       "      <td>0.666667</td>\n",
       "      <td>1962-07-03</td>\n",
       "      <td>Disputed</td>\n",
       "      <td>Two equal vertical bands of green (hoist side)...</td>\n",
       "    </tr>\n",
       "    <tr>\n",
       "      <th>4</th>\n",
       "      <td>Andorra</td>\n",
       "      <td>Andorra</td>\n",
       "      <td>0.700000</td>\n",
       "      <td>1993-05-05</td>\n",
       "      <td>None</td>\n",
       "      <td>Three vertical bands of blue (hoist side), yel...</td>\n",
       "    </tr>\n",
       "    <tr>\n",
       "      <th>...</th>\n",
       "      <td>...</td>\n",
       "      <td>...</td>\n",
       "      <td>...</td>\n",
       "      <td>...</td>\n",
       "      <td>...</td>\n",
       "      <td>...</td>\n",
       "    </tr>\n",
       "    <tr>\n",
       "      <th>208</th>\n",
       "      <td>Somaliland</td>\n",
       "      <td>Somaliland</td>\n",
       "      <td>NaN</td>\n",
       "      <td>1996-10-14</td>\n",
       "      <td>None</td>\n",
       "      <td>Three equal horizontal bands of green (top), w...</td>\n",
       "    </tr>\n",
       "    <tr>\n",
       "      <th>209</th>\n",
       "      <td>South Ossetia</td>\n",
       "      <td>South Ossetia</td>\n",
       "      <td>NaN</td>\n",
       "      <td>NaT</td>\n",
       "      <td>None</td>\n",
       "      <td>Three equal horizontal bands of white (top), r...</td>\n",
       "    </tr>\n",
       "    <tr>\n",
       "      <th>210</th>\n",
       "      <td>Taiwan</td>\n",
       "      <td>Taiwan</td>\n",
       "      <td>0.666667</td>\n",
       "      <td>1928-10-28</td>\n",
       "      <td>Lu Haodong  (canton)  Sun Yat-sen  (red field)</td>\n",
       "      <td>Red field with a dark blue rectangle in the up...</td>\n",
       "    </tr>\n",
       "    <tr>\n",
       "      <th>211</th>\n",
       "      <td>Transnistria</td>\n",
       "      <td>Transnistria</td>\n",
       "      <td>0.500000</td>\n",
       "      <td>2000-07-03</td>\n",
       "      <td>None</td>\n",
       "      <td>Three horizontal bands of red (top), green (ha...</td>\n",
       "    </tr>\n",
       "    <tr>\n",
       "      <th>212</th>\n",
       "      <td>Russia</td>\n",
       "      <td>Transnistria</td>\n",
       "      <td>0.500000</td>\n",
       "      <td>2017-04-12</td>\n",
       "      <td>Peter I of Russia</td>\n",
       "      <td>Three equal horizontal bands of white (top), b...</td>\n",
       "    </tr>\n",
       "  </tbody>\n",
       "</table>\n",
       "<p>213 rows × 6 columns</p>\n",
       "</div>"
      ],
      "text/plain": [
       "                            Flag(s)          State  Aspect ratio  \\\n",
       "0     Afghanistan (Islamic Emirate)    Afghanistan      0.500000   \n",
       "1    Afghanistan (Islamic Republic)    Afghanistan      0.666667   \n",
       "2                           Albania        Albania      0.714286   \n",
       "3                           Algeria        Algeria      0.666667   \n",
       "4                           Andorra        Andorra      0.700000   \n",
       "..                              ...            ...           ...   \n",
       "208                      Somaliland     Somaliland           NaN   \n",
       "209                   South Ossetia  South Ossetia           NaN   \n",
       "210                          Taiwan         Taiwan      0.666667   \n",
       "211                    Transnistria   Transnistria      0.500000   \n",
       "212                          Russia   Transnistria      0.500000   \n",
       "\n",
       "    Date of latest adoption                                     Designer(s)  \\\n",
       "0                2021-08-15                                            None   \n",
       "1                2013-08-19                                            None   \n",
       "2                1992-04-07                                            None   \n",
       "3                1962-07-03                                        Disputed   \n",
       "4                1993-05-05                                            None   \n",
       "..                      ...                                             ...   \n",
       "208              1996-10-14                                            None   \n",
       "209                     NaT                                            None   \n",
       "210              1928-10-28  Lu Haodong  (canton)  Sun Yat-sen  (red field)   \n",
       "211              2000-07-03                                            None   \n",
       "212              2017-04-12                               Peter I of Russia   \n",
       "\n",
       "                                           Description  \n",
       "0    White with a black  Shahada  in  Thuluth scrip...  \n",
       "1    Three equal vertical bands of black (  hoist s...  \n",
       "2    Red with a black  double-headed eagle  in the ...  \n",
       "3    Two equal vertical bands of green (hoist side)...  \n",
       "4    Three vertical bands of blue (hoist side), yel...  \n",
       "..                                                 ...  \n",
       "208  Three equal horizontal bands of green (top), w...  \n",
       "209  Three equal horizontal bands of white (top), r...  \n",
       "210  Red field with a dark blue rectangle in the up...  \n",
       "211  Three horizontal bands of red (top), green (ha...  \n",
       "212  Three equal horizontal bands of white (top), b...  \n",
       "\n",
       "[213 rows x 6 columns]"
      ]
     },
     "execution_count": 6,
     "metadata": {},
     "output_type": "execute_result"
    }
   ],
   "source": [
    "all_flags = pd.concat(list(map(parse_table, tables)), axis=0, ignore_index=True)\n",
    "all_flags"
   ]
  },
  {
   "cell_type": "code",
   "execution_count": 7,
   "metadata": {},
   "outputs": [],
   "source": [
    "all_flags.to_feather('../data/all_flags.feather')"
   ]
  },
  {
   "cell_type": "code",
   "execution_count": 12,
   "metadata": {},
   "outputs": [
    {
     "data": {
      "text/plain": [
       "'//upload.wikimedia.org/wikipedia/commons/thumb/5/5c/Flag_of_the_Taliban.svg/220px-Flag_of_the_Taliban.svg.png'"
      ]
     },
     "execution_count": 12,
     "metadata": {},
     "output_type": "execute_result"
    }
   ],
   "source": [
    "tables[0].find_all('img')[0]['src']"
   ]
  },
  {
   "cell_type": "code",
   "execution_count": 14,
   "metadata": {},
   "outputs": [
    {
     "data": {
      "image/png": "[encoded data removed]",
      "text/plain": [
       "<IPython.core.display.Image object>"
      ]
     },
     "execution_count": 14,
     "metadata": {},
     "output_type": "execute_result"
    }
   ],
   "source": [
    "from IPython.display import Image\n",
    "\n",
    "Image(urllib.request.urlopen('http:' + tables[0].find_all('img')[0]['src']).read())"
   ]
  },
  {
   "cell_type": "code",
   "execution_count": 18,
   "metadata": {},
   "outputs": [],
   "source": [
    "from pathlib import Path\n",
    "\n",
    "def download_flags(table, folder, idx_offset=0):\n",
    "    folder  = Path(folder)\n",
    "    images = table.find_all('img')\n",
    "    for i, image in enumerate(images):\n",
    "        src = image['src']\n",
    "        name = src.split('/')[-1]\n",
    "\n",
    "        with open(folder / f'{i+idx_offset}-{name}', mode='wb') as f:\n",
    "            f.write(urllib.request.urlopen('http:' + src).read())\n",
    "\n",
    "    return len(images) + idx_offset"
   ]
  },
  {
   "cell_type": "code",
   "execution_count": 19,
   "metadata": {},
   "outputs": [],
   "source": [
    "last = 0\n",
    "for table in tables:\n",
    "    last = download_flags(tables[0], '../data/flags', idx_offset=last)"
   ]
  },
  {
   "cell_type": "code",
   "execution_count": null,
   "metadata": {},
   "outputs": [],
   "source": [
    "flags = Path('../data/flags').glob()\n",
    "\n",
    "def get_path(i):\n",
    "    flags"
   ]
  },
  {
   "cell_type": "code",
   "execution_count": 27,
   "metadata": {},
   "outputs": [
    {
     "data": {
      "text/plain": [
       "'//upload.wikimedia.org/wikipedia/commons/thumb/c/cd/Flag_of_Afghanistan_%282013%E2%80%932021%29.svg/220px-Flag_of_Afghanistan_%282013%E2%80%932021%29.svg.png'"
      ]
     },
     "execution_count": 27,
     "metadata": {},
     "output_type": "execute_result"
    }
   ],
   "source": [
    "import html\n",
    "\n",
    "html.unescape(r'//upload.wikimedia.org/wikipedia/commons/thumb/c/cd/Flag_of_Afghanistan_%282013%E2%80%932021%29.svg/220px-Flag_of_Afghanistan_%282013%E2%80%932021%29.svg.png')"
   ]
  },
  {
   "cell_type": "code",
   "execution_count": null,
   "metadata": {},
   "outputs": [],
   "source": []
  }
 ],
 "metadata": {
  "kernelspec": {
   "display_name": ".venv",
   "language": "python",
   "name": "python3"
  },
  "language_info": {
   "codemirror_mode": {
    "name": "ipython",
    "version": 3
   },
   "file_extension": ".py",
   "mimetype": "text/x-python",
   "name": "python",
   "nbconvert_exporter": "python",
   "pygments_lexer": "ipython3",
   "version": "3.12.6"
  }
 },
 "nbformat": 4,
 "nbformat_minor": 2
}
