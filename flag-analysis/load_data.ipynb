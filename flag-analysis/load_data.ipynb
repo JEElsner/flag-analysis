{
 "cells": [
  {
   "cell_type": "code",
   "execution_count": null,
   "metadata": {},
   "outputs": [],
   "source": [
    "import urllib\n",
    "from bs4 import BeautifulSoup\n",
    "import pandas as pd\n",
    "import re\n",
    "from functools import partial\n",
    "from io import StringIO"
   ]
  },
  {
   "cell_type": "code",
   "execution_count": null,
   "metadata": {},
   "outputs": [],
   "source": [
    "import urllib.request\n",
    "\n",
    "\n",
    "list_of_flags_page = urllib.request.urlopen('https://en.wikipedia.org/wiki/List_of_national_flags_of_sovereign_states').read()"
   ]
  },
  {
   "cell_type": "code",
   "execution_count": null,
   "metadata": {},
   "outputs": [],
   "source": [
    "soup = BeautifulSoup(list_of_flags_page, 'html.parser')"
   ]
  },
  {
   "cell_type": "code",
   "execution_count": null,
   "metadata": {},
   "outputs": [],
   "source": [
    "tables = soup.find_all('table')"
   ]
  },
  {
   "cell_type": "code",
   "execution_count": null,
   "metadata": {},
   "outputs": [],
   "source": [
    "def parse_table(table):\n",
    "\n",
    "    split_ratio = re.compile('[∶:]').split\n",
    "    def parse_aspect_ratio(s: str) -> float:\n",
    "        try:\n",
    "            n, d = map(int, split_ratio(s))\n",
    "            return n / d\n",
    "        except ValueError:\n",
    "            return float('nan')\n",
    "\n",
    "    strip_citations = partial(re.compile(r'\\s*\\[.*\\]').sub, \"\")\n",
    "    \n",
    "    table = pd.read_html(StringIO(table.prettify()), flavor='bs4')[0]\n",
    "\n",
    "    table = table.map(strip_citations)\n",
    "    table.columns = map(strip_citations, table.columns)\n",
    "    table.drop('Refs.', axis=1, inplace=True)\n",
    "    table['Aspect ratio'] = table['Aspect ratio'].apply(parse_aspect_ratio)\n",
    "    table['Date of latest adoption'] = pd.to_datetime(table['Date of latest adoption'], format='mixed', errors='coerce')\n",
    "    table['Designer(s)'] = table['Designer(s)'].apply(lambda s: None if s == '—' else s)\n",
    "\n",
    "    return table"
   ]
  },
  {
   "cell_type": "code",
   "execution_count": null,
   "metadata": {},
   "outputs": [],
   "source": [
    "all_flags = pd.concat(list(map(parse_table, tables)), axis=0, ignore_index=True)\n",
    "all_flags"
   ]
  },
  {
   "cell_type": "code",
   "execution_count": null,
   "metadata": {},
   "outputs": [],
   "source": [
    "from pathlib import Path\n",
    "\n",
    "def download_flags(table, folder, idx_offset=0):\n",
    "    folder  = Path(folder)\n",
    "    images = table.find_all('img')\n",
    "    for i, image in enumerate(images):\n",
    "        src = image['src']\n",
    "        name = src.split('/')[-1]\n",
    "\n",
    "        with open(folder / f'{i+idx_offset}-{name}', mode='wb') as f:\n",
    "            f.write(urllib.request.urlopen('http:' + src).read())\n",
    "\n",
    "    return len(images) + idx_offset"
   ]
  },
  {
   "cell_type": "code",
   "execution_count": null,
   "metadata": {},
   "outputs": [],
   "source": [
    "last = 0\n",
    "for table in tables:\n",
    "    last = download_flags(tables[0], '../data/flags', idx_offset=last)"
   ]
  },
  {
   "cell_type": "code",
   "execution_count": null,
   "metadata": {},
   "outputs": [],
   "source": [
    "# paths = pd.DataFrame.from_records([{'index': int(flag.name.split('-')[0]), 'path': str(flag)} for flag in Path('../data/flags').glob('*')], index='index')\n",
    "# paths"
   ]
  },
  {
   "cell_type": "code",
   "execution_count": null,
   "metadata": {},
   "outputs": [],
   "source": [
    "all_flags = all_flags.join(paths)\n",
    "all_flags"
   ]
  },
  {
   "cell_type": "code",
   "execution_count": null,
   "metadata": {},
   "outputs": [],
   "source": [
    "all_flags.to_feather('../data/all_flags.feather')"
   ]
  },
  {
   "cell_type": "code",
   "execution_count": null,
   "metadata": {},
   "outputs": [],
   "source": []
  }
 ],
 "metadata": {
  "kernelspec": {
   "display_name": "flag-analysis-3.12",
   "language": "python",
   "name": "python3"
  },
  "language_info": {
   "codemirror_mode": {
    "name": "ipython",
    "version": 3
   },
   "file_extension": ".py",
   "mimetype": "text/x-python",
   "name": "python",
   "nbconvert_exporter": "python",
   "pygments_lexer": "ipython3",
   "version": "3.12.10"
  }
 },
 "nbformat": 4,
 "nbformat_minor": 2
}
